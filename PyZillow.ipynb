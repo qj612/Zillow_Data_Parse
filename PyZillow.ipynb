{
 "cells": [
  {
   "cell_type": "code",
   "execution_count": 1,
   "metadata": {},
   "outputs": [],
   "source": [
    "import pyzillow\n",
    "from pyzillow.pyzillow import ZillowWrapper, GetDeepSearchResults,GetUpdatedPropertyDetails\n",
    "import nltk\n",
    "import re"
   ]
  },
  {
   "cell_type": "code",
   "execution_count": 2,
   "metadata": {},
   "outputs": [],
   "source": [
    "def Parse_Zillow_Data(address,zipcode):\n",
    "    try:\n",
    "        zillow_data = ZillowWrapper('X1-ZWz1gqer5j562z_4wzn5')\n",
    "        deep_search_response = zillow_data.get_deep_search_results(address, zipcode) \n",
    "        DeepSearchResult = GetDeepSearchResults(deep_search_response)\n",
    "    \n",
    "        zillow_id =DeepSearchResult.zillow_id\n",
    "        updated_property_details_response=zillow_data.get_updated_property_details(zillow_id) \n",
    "        result = GetUpdatedPropertyDetails(updated_property_details_response)\n",
    "    \n",
    "        return {'zillow_id':DeepSearchResult.zillow_id,\n",
    "                  'home_type':DeepSearchResult.home_type,\n",
    "                  'home_detail_link':DeepSearchResult.home_detail_link,\n",
    "                  'graph_data_link':DeepSearchResult.graph_data_link,\n",
    "                 'map_this_home_link':DeepSearchResult.map_this_home_link,\n",
    "                 'latitude':DeepSearchResult.latitude,\n",
    "                 'longitude':DeepSearchResult.longitude,\n",
    "                 'tax_year':DeepSearchResult.tax_year,\n",
    "                 'tax_value':DeepSearchResult.tax_value,\n",
    "                 'year_built':DeepSearchResult.year_built,\n",
    "                 'property_size':DeepSearchResult.property_size,\n",
    "                 'home_size':DeepSearchResult.home_size,\n",
    "                 'bathrooms':DeepSearchResult.bathrooms,\n",
    "                 'bedrooms':DeepSearchResult.bedrooms,\n",
    "                 'last_sold_date':DeepSearchResult.last_sold_date,\n",
    "                 'last_sold_price_currency':DeepSearchResult.last_sold_price_currency,\n",
    "                 'last_sold_price':DeepSearchResult.last_sold_price,\n",
    "                 'zestimate_amount':DeepSearchResult.zestimate_amount,\n",
    "                  'zestimate_last_updated':DeepSearchResult.zestimate_last_updated,\n",
    "                  'zestimate_value_change':DeepSearchResult.zestimate_value_change,\n",
    "                  'zestimate_valuation_range_high':DeepSearchResult.zestimate_valuation_range_high,\n",
    "                  'zestimate_valuationRange_low':DeepSearchResult.zestimate_valuationRange_low,\n",
    "                  'zestimate_percentile':DeepSearchResult.zestimate_percentile,\n",
    "                  'home_type':result.home_type,\n",
    "                  'home_detail_link':result.home_detail_link,\n",
    "                  'home_info':result.home_info,\n",
    "                  'year_updated':result.year_updated,\n",
    "                  'floor_material':result.floor_material,\n",
    "                  'num_floors':result.num_floors,\n",
    "                  'basement':result.basement,\n",
    "                  'roof':result.roof,\n",
    "                  'view':result.view,\n",
    "                  'parking_type':result.parking_type,\n",
    "                  'heating_sources':result.heating_sources,\n",
    "                  'heating_system':result.heating_system,\n",
    "                  'rooms':result.rooms,\n",
    "                  'home_description':result.home_description,\n",
    "                  'neighborhood':result.neighborhood,\n",
    "                  'school_district':result.school_district\n",
    "                 }\n",
    "    except:\n",
    "        return 'Cannot be Found'"
   ]
  },
  {
   "cell_type": "code",
   "execution_count": 14,
   "metadata": {},
   "outputs": [
    {
     "data": {
      "text/plain": [
       "{'zillow_id': '57162305',\n",
       " 'home_type': 'SingleFamily',\n",
       " 'home_detail_link': 'https://www.zillow.com/homedetails/147-Hayward-Ave-Brockton-MA-02301/57162305_zpid/',\n",
       " 'graph_data_link': 'http://www.zillow.com/homedetails/147-Hayward-Ave-Brockton-MA-02301/57162305_zpid/#charts-and-data',\n",
       " 'map_this_home_link': 'http://www.zillow.com/homes/57162305_zpid/',\n",
       " 'latitude': '42.048921',\n",
       " 'longitude': '-71.017371',\n",
       " 'tax_year': '2018',\n",
       " 'tax_value': '275500.0',\n",
       " 'year_built': '1981',\n",
       " 'property_size': '7841',\n",
       " 'home_size': '1092',\n",
       " 'bathrooms': '1.5',\n",
       " 'bedrooms': '3',\n",
       " 'last_sold_date': '02/27/2004',\n",
       " 'last_sold_price_currency': 'USD',\n",
       " 'last_sold_price': '270000',\n",
       " 'zestimate_amount': '304444',\n",
       " 'zestimate_last_updated': '11/01/2018',\n",
       " 'zestimate_value_change': '2169',\n",
       " 'zestimate_valuation_range_high': '319666',\n",
       " 'zestimate_valuationRange_low': '289222',\n",
       " 'zestimate_percentile': '0',\n",
       " 'home_info': 'https://www.zillow.com/homedetails/147-Hayward-Ave-Brockton-MA-02301/57162305_zpid/',\n",
       " 'year_updated': None,\n",
       " 'floor_material': None,\n",
       " 'num_floors': '1',\n",
       " 'basement': 'Finished',\n",
       " 'roof': None,\n",
       " 'view': None,\n",
       " 'parking_type': 'Garage - Attached',\n",
       " 'heating_sources': None,\n",
       " 'heating_system': 'Forced air',\n",
       " 'rooms': None,\n",
       " 'home_description': None,\n",
       " 'neighborhood': None,\n",
       " 'school_district': None}"
      ]
     },
     "execution_count": 14,
     "metadata": {},
     "output_type": "execute_result"
    }
   ],
   "source": [
    "Parse_Zillow_Data('147 Hayward Avenue','02301')"
   ]
  }
 ],
 "metadata": {
  "kernelspec": {
   "display_name": "Python 3",
   "language": "python",
   "name": "python3"
  },
  "language_info": {
   "codemirror_mode": {
    "name": "ipython",
    "version": 3
   },
   "file_extension": ".py",
   "mimetype": "text/x-python",
   "name": "python",
   "nbconvert_exporter": "python",
   "pygments_lexer": "ipython3",
   "version": "3.7.0"
  }
 },
 "nbformat": 4,
 "nbformat_minor": 2
}
