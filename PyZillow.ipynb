{
 "cells": [
  {
   "cell_type": "code",
   "execution_count": 1,
   "metadata": {},
   "outputs": [],
   "source": [
    "import pyzillow\n",
    "from pyzillow.pyzillow import ZillowWrapper, GetDeepSearchResults,GetUpdatedPropertyDetails\n",
    "import nltk\n",
    "import re"
   ]
  },
  {
   "cell_type": "code",
   "execution_count": 2,
   "metadata": {},
   "outputs": [],
   "source": [
    "def Parse_Zillow_Data(address,zipcode):\n",
    "    try:\n",
    "        zillow_data = ZillowWrapper(ZillowKey)\n",
    "        deep_search_response = zillow_data.get_deep_search_results(address, zipcode) \n",
    "        DeepSearchResult = GetDeepSearchResults(deep_search_response)\n",
    "    \n",
    "        zillow_id =DeepSearchResult.zillow_id\n",
    "        updated_property_details_response=zillow_data.get_updated_property_details(zillow_id) \n",
    "        result = GetUpdatedPropertyDetails(updated_property_details_response)\n",
    "    \n",
    "        return {'zillow_id':DeepSearchResult.zillow_id,\n",
    "                  'home_type':DeepSearchResult.home_type,\n",
    "                  'home_detail_link':DeepSearchResult.home_detail_link,\n",
    "                  'graph_data_link':DeepSearchResult.graph_data_link,\n",
    "                 'map_this_home_link':DeepSearchResult.map_this_home_link,\n",
    "                 'latitude':DeepSearchResult.latitude,\n",
    "                 'longitude':DeepSearchResult.longitude,\n",
    "                 'tax_year':DeepSearchResult.tax_year,\n",
    "                 'tax_value':DeepSearchResult.tax_value,\n",
    "                 'year_built':DeepSearchResult.year_built,\n",
    "                 'property_size':DeepSearchResult.property_size,\n",
    "                 'home_size':DeepSearchResult.home_size,\n",
    "                 'bathrooms':DeepSearchResult.bathrooms,\n",
    "                 'bedrooms':DeepSearchResult.bedrooms,\n",
    "                 'last_sold_date':DeepSearchResult.last_sold_date,\n",
    "                 'last_sold_price_currency':DeepSearchResult.last_sold_price_currency,\n",
    "                 'last_sold_price':DeepSearchResult.last_sold_price,\n",
    "                 'zestimate_amount':DeepSearchResult.zestimate_amount,\n",
    "                  'zestimate_last_updated':DeepSearchResult.zestimate_last_updated,\n",
    "                  'zestimate_value_change':DeepSearchResult.zestimate_value_change,\n",
    "                  'zestimate_valuation_range_high':DeepSearchResult.zestimate_valuation_range_high,\n",
    "                  'zestimate_valuationRange_low':DeepSearchResult.zestimate_valuationRange_low,\n",
    "                  'zestimate_percentile':DeepSearchResult.zestimate_percentile,\n",
    "                  'home_type':result.home_type,\n",
    "                  'home_detail_link':result.home_detail_link,\n",
    "                  'home_info':result.home_info,\n",
    "                  'year_updated':result.year_updated,\n",
    "                  'floor_material':result.floor_material,\n",
    "                  'num_floors':result.num_floors,\n",
    "                  'basement':result.basement,\n",
    "                  'roof':result.roof,\n",
    "                  'view':result.view,\n",
    "                  'parking_type':result.parking_type,\n",
    "                  'heating_sources':result.heating_sources,\n",
    "                  'heating_system':result.heating_system,\n",
    "                  'rooms':result.rooms,\n",
    "                  'home_description':result.home_description,\n",
    "                  'neighborhood':result.neighborhood,\n",
    "                  'school_district':result.school_district\n",
    "                 }\n",
    "    except:\n",
    "        return 'Cannot be Found'"
   ]
  },
  {
   "cell_type": "code",
   "execution_count": 16,
   "metadata": {},
   "outputs": [
    {
     "data": {
      "text/plain": [
       "{'zillow_id': '2092044558',\n",
       " 'home_type': 'Condominium',\n",
       " 'home_detail_link': 'https://www.zillow.com/homedetails/250-E-Harbortown-Dr-APT-307-Detroit-MI-48207/2092044558_zpid/',\n",
       " 'graph_data_link': None,\n",
       " 'map_this_home_link': 'http://www.zillow.com/homes/2092044558_zpid/',\n",
       " 'latitude': '42.341761',\n",
       " 'longitude': '-83.010682',\n",
       " 'tax_year': None,\n",
       " 'tax_value': None,\n",
       " 'year_built': '1990',\n",
       " 'property_size': None,\n",
       " 'home_size': '1214',\n",
       " 'bathrooms': '2.0',\n",
       " 'bedrooms': '2',\n",
       " 'last_sold_date': '01/22/2018',\n",
       " 'last_sold_price_currency': 'USD',\n",
       " 'last_sold_price': '224000',\n",
       " 'zestimate_amount': '245787',\n",
       " 'zestimate_last_updated': '11/01/2018',\n",
       " 'zestimate_value_change': '2197',\n",
       " 'zestimate_valuation_range_high': '272824',\n",
       " 'zestimate_valuationRange_low': '181882',\n",
       " 'zestimate_percentile': '0',\n",
       " 'home_info': 'https://www.zillow.com/homedetails/250-E-Harbortown-Dr-APT-307-Detroit-MI-48207/2092044558_zpid/',\n",
       " 'year_updated': None,\n",
       " 'floor_material': 'Other',\n",
       " 'num_floors': None,\n",
       " 'basement': None,\n",
       " 'roof': 'Other',\n",
       " 'view': None,\n",
       " 'parking_type': 'Garage - Attached',\n",
       " 'heating_sources': 'Electric',\n",
       " 'heating_system': 'Heat pump',\n",
       " 'rooms': None,\n",
       " 'home_description': \"Completely renovated condo in Detroit's most desirable luxury lining community. A full 2017 renovation includes all new hardwood floors, moulding, cabinets, granites countertops, stainless steel appliances, in-unit laundry and lighting & plumbing fixtures. All door hardware was replaced & the entire unit painted; this unit is truly brand new from top to bottom! New NEZ abatement offers low taxes locked in for 12 years! The community offers a wide range of amenities with river and downtown views, 3 community pools, and 2 fitness centers. The community is secure and comfortable with 24hr. security, garage parking, and friendly maintenance staff on site daily. You have direct access to the riverwalk, stretching from Belle Isle to Corktown, as well as an on site marina.\",\n",
       " 'neighborhood': None,\n",
       " 'school_district': 'Detroit'}"
      ]
     },
     "execution_count": 16,
     "metadata": {},
     "output_type": "execute_result"
    }
   ],
   "source": [
    "Parse_Zillow_Data('250 E Harbortown Dr, Apt 307','48207')"
   ]
  }
 ],
 "metadata": {
  "kernelspec": {
   "display_name": "Python 3",
   "language": "python",
   "name": "python3"
  },
  "language_info": {
   "codemirror_mode": {
    "name": "ipython",
    "version": 3
   },
   "file_extension": ".py",
   "mimetype": "text/x-python",
   "name": "python",
   "nbconvert_exporter": "python",
   "pygments_lexer": "ipython3",
   "version": "3.7.0"
  }
 },
 "nbformat": 4,
 "nbformat_minor": 2
}
